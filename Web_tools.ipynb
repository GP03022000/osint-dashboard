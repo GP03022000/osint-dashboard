{
 "cells": [
  {
   "cell_type": "code",
   "execution_count": 4,
   "id": "ba05ac9e",
   "metadata": {},
   "outputs": [],
   "source": [
    "import requests\n",
    "import socket\n",
    "import ipinfo\n",
    "import ssl\n",
    "from cryptography import x509\n",
    "from cryptography.hazmat.backends import default_backend\n",
    "\n",
    "ipinfo_api_key = '3f709cf966c756'\n"
   ]
  },
  {
   "cell_type": "markdown",
   "id": "88e5be9a",
   "metadata": {},
   "source": [
    "#### Gets the IP adress of the given website"
   ]
  },
  {
   "cell_type": "code",
   "execution_count": 5,
   "id": "3cc1ca97",
   "metadata": {},
   "outputs": [],
   "source": [
    "def ip_address(website):\n",
    "    if \"://\" in website:\n",
    "        website = website.split(\"://\")[1]\n",
    "\n",
    "    parts = website.split(\"/\")\n",
    "    domain = parts[0]\n",
    "    try:\n",
    "        ip_address = socket.gethostbyname(domain)\n",
    "        return (domain, ip_address)\n",
    "    except socket.gaierror:\n",
    "        return (domain, \"Invalid domain or unable to resolve IP address\")\n"
   ]
  },
  {
   "cell_type": "code",
   "execution_count": 7,
   "id": "fa59d94c",
   "metadata": {},
   "outputs": [
    {
     "data": {
      "text/plain": [
       "('dsu.edu', '23.99.192.132')"
      ]
     },
     "execution_count": 7,
     "metadata": {},
     "output_type": "execute_result"
    }
   ],
   "source": [
    "ip_address(\"http://dsu.edu\")"
   ]
  },
  {
   "cell_type": "markdown",
   "id": "974753c6",
   "metadata": {},
   "source": [
    "#### Gets the IP information of the given IP address"
   ]
  },
  {
   "cell_type": "code",
   "execution_count": 24,
   "id": "3eb2bbb4",
   "metadata": {},
   "outputs": [],
   "source": [
    "def ip_info(ip_address):\n",
    "    handler = ipinfo.getHandler(ipinfo_api_key)\n",
    "\n",
    "    details = handler.getDetails(ip_address)\n",
    "\n",
    "    print(f\"IP Address: {details.ip}\")\n",
    "    print(f\"City: {details.city}\")\n",
    "    print(f\"Region: {details.region}\")\n",
    "    print(f\"Country: {details.country}\")\n",
    "    print(f\"Location: {details.loc}\")\n"
   ]
  },
  {
   "cell_type": "markdown",
   "id": "389efd4d",
   "metadata": {},
   "source": [
    "Gets the SSL certificate of the given IP adress"
   ]
  },
  {
   "cell_type": "code",
   "execution_count": 3,
   "id": "4ede6756",
   "metadata": {},
   "outputs": [],
   "source": [
    "def get_ssl(hostname, port=443):\n",
    "    \n",
    "    context = ssl.create_default_context()\n",
    "    conn = context.wrap_socket(socket.socket(socket.AF_INET, socket.SOCK_STREAM), server_hostname=hostname)\n",
    "    conn.connect((hostname, port))\n",
    "\n",
    "    certs = conn.getpeercert(True)\n",
    "    return(x509.load_der_x509_certificate(certs, default_backend()))\n"
   ]
  },
  {
   "cell_type": "code",
   "execution_count": 19,
   "id": "07073ba3",
   "metadata": {},
   "outputs": [
    {
     "name": "stdout",
     "output_type": "stream",
     "text": [
      "IP Address: 23.99.192.132, Hostname: No reverse DNS record found\n"
     ]
    }
   ],
   "source": [
    "import socket\n",
    "\n",
    "def reverse_dns_lookup(ip_address):\n",
    "    try:l\n",
    "        hostname, _, _ = socket.gethostbyaddr(ip_address)\n",
    "        return hostname\n",
    "    except socket.herror:\n",
    "        return \"No reverse DNS record found\"\n",
    "\n",
    "ip_address = \"23.99.192.132\" \n",
    "hostname = reverse_dns_lookup(ip_address)\n",
    "print(f\"IP Address: {ip_address}, Hostname: {hostname}\")\n"
   ]
  },
  {
   "cell_type": "code",
   "execution_count": 49,
   "id": "d395b9cb",
   "metadata": {},
   "outputs": [],
   "source": [
    "def get_records(domain):\n",
    "    results = {}\n",
    "    ids = ['NONE', 'A', 'NS', 'MD', 'MF', 'CNAME', 'SOA', 'MB', 'MG', 'MR', 'NULL', 'WKS', 'PTR', 'HINFO', 'MINFO', 'MX', 'TXT', 'RP', 'AFSDB', 'X25', 'ISDN', 'RT', 'NSAP', 'NSAP-PTR', 'SIG', 'KEY', 'PX', 'GPOS', 'AAAA', 'LOC', 'NXT', 'SRV', 'NAPTR', 'KX', 'CERT', 'A6', 'DNAME', 'OPT', 'APL', 'DS', 'SSHFP', 'IPSECKEY', 'RRSIG', 'NSEC', 'DNSKEY', 'DHCID', 'NSEC3', 'NSEC3PARAM', 'TLSA', 'HIP', 'CDS', 'CDNSKEY', 'CSYNC', 'SPF', 'UNSPEC', 'EUI48', 'EUI64', 'TKEY', 'TSIG', 'IXFR', 'AXFR', 'MAILB', 'MAILA', 'ANY', 'URI', 'CAA', 'TA', 'DLV']\n",
    "    \n",
    "    for a in ids:\n",
    "        try:\n",
    "            answers = dns.resolver.resolve(domain, a)\n",
    "            results[a] = [rdata.to_text() for rdata in answers]\n",
    "        except Exception as e:\n",
    "            continue\n",
    "    \n",
    "    return results"
   ]
  },
  {
   "cell_type": "code",
   "execution_count": null,
   "id": "a569080d",
   "metadata": {},
   "outputs": [],
   "source": [
    "@app.route('/web-input', methods=['GET', 'POST'])\n",
    "def web_input():\n",
    "    if request.method == 'POST':\n",
    "        user_url = request.form.get('web_input')\n",
    "        if not is_valid_url(user_url):\n",
    "            flash('Invalid URL', 'error')\n",
    "        else:\n",
    "            return render_template('web_tools.html', user_url=user_url)\n",
    "    \n",
    "    return render_template('web_input.html')"
   ]
  },
  {
   "cell_type": "code",
   "execution_count": 1,
   "id": "8d07729c",
   "metadata": {},
   "outputs": [
    {
     "name": "stdout",
     "output_type": "stream",
     "text": [
      "[\n",
      "    \"https://lightdeliveryagency.com/tt-gallery-1/\",\n",
      "    \"https://lightdeliveryagency.com/tt-gallery-fleet-2/\",\n",
      "    \"https://lightdeliveryagency.com/meet-our-team/\",\n",
      "    \"https://lightdeliveryagency.com/our-clients/\",\n",
      "    \"https://lightdeliveryagency.com/our-testimonials/\",\n",
      "    \"https://lightdeliveryagency.com/\",\n",
      "    \"https://lightdeliveryagency.com/service/\",\n",
      "    \"https://lightdeliveryagency.com/blog/\",\n",
      "    \"https://lightdeliveryagency.com/about-us/\",\n",
      "    \"https://lightdeliveryagency.com/contact/\",\n",
      "    \"https://lightdeliveryagency.com/request-a-quote/\",\n",
      "    \"https://lightdeliveryagency.com/career/\",\n",
      "    \"https://lightdeliveryagency.com/home/\",\n",
      "    \"https://lightdeliveryagency.com/track-your-shipment/\",\n",
      "    \"https://lightdeliveryagency.com/our-pricing/\",\n",
      "    \"https://lightdeliveryagency.com/home-onepage/\",\n",
      "    \"https://lightdeliveryagency.com/contact-2/\",\n",
      "    \"https://lightdeliveryagency.com/company-history/\",\n",
      "    \"https://lightdeliveryagency.com/track-your-shipment-2/\",\n",
      "    \"https://lightdeliveryagency.com/faq/\",\n",
      "    \"https://lightdeliveryagency.com/faq/\",\n",
      "    \"https://lightdeliveryagency.com/home-page-3/\",\n",
      "    \"https://lightdeliveryagency.com/home-page-3/\",\n",
      "    \"https://lightdeliveryagency.com/build-your-own-layout/\",\n",
      "    \"https://lightdeliveryagency.com/build-your-own-layout/\",\n",
      "    \"https://lightdeliveryagency.com/home-onepage-2/\",\n",
      "    \"https://lightdeliveryagency.com/track-form/\",\n",
      "    \"https://lightdeliveryagency.com/my-account/\",\n",
      "    \"https://lightdeliveryagency.com/air-frieght/\",\n",
      "    \"https://lightdeliveryagency.com/land-transportation/\",\n",
      "    \"https://lightdeliveryagency.com/insurance/\",\n",
      "    \"https://lightdeliveryagency.com/596-2/\",\n",
      "    \"https://lightdeliveryagency.com/sea-freight/\",\n",
      "    \"https://lightdeliveryagency.com/test/\",\n",
      "    \"https://lightdeliveryagency.com/fdfdf/\",\n",
      "    \"https://lightdeliveryagency.com/tt-service/cargo-express/\",\n",
      "    \"https://lightdeliveryagency.com/tt-service/packaging-storage/\",\n",
      "    \"https://lightdeliveryagency.com/tt-service/contract-logistics/\",\n",
      "    \"https://lightdeliveryagency.com/tt-service/consulting-services/\",\n",
      "    \"https://lightdeliveryagency.com/tt-service/warehousing/\",\n",
      "    \"https://lightdeliveryagency.com/tt-service/goods-tracking-support/\",\n",
      "    \"https://lightdeliveryagency.com/tt-service/custom-brokerage/\",\n",
      "    \"https://lightdeliveryagency.com/tt-service/air-freight-2/\",\n",
      "    \"https://lightdeliveryagency.com/tt-service/ocean-freight/\",\n",
      "    \"https://lightdeliveryagency.com/type/fleet/\",\n",
      "    \"https://lightdeliveryagency.com/type/frieght/\",\n",
      "    \"https://lightdeliveryagency.com/type/ground/\",\n",
      "    \"https://lightdeliveryagency.com/type/trucks/\",\n",
      "    \"https://lightdeliveryagency.com/position/manager/\",\n",
      "    \"https://lightdeliveryagency.com/position/supervisor/\",\n",
      "    \"https://lightdeliveryagency.com/position/support/\",\n",
      "    \"https://lightdeliveryagency.com/author/zenara/\"\n",
      "]\n"
     ]
    }
   ],
   "source": [
    "from urllib import parse, robotparser, request\n",
    "import re\n",
    "import json\n",
    "\n",
    "def get_sitemaps(website):\n",
    "    robotstxturl = parse.urljoin(website, \"robots.txt\")\n",
    "    try:\n",
    "        rp = robotparser.RobotFileParser()\n",
    "        rp.set_url(robotstxturl)\n",
    "        rp.read()\n",
    "        sitemaps = rp.site_maps()\n",
    "    except robotparser.RobotFileParserError as e:\n",
    "        print(f\"error: {e}\")\n",
    "    except Exception as e:\n",
    "        print(f\"Error: {e}\")\n",
    "        \n",
    "    return sitemaps\n",
    "\n",
    "def sitemap_parser(sitemap):\n",
    "    r = request.urlopen(sitemap)\n",
    "    xml = r.read().decode('utf8')\n",
    "    elements = re.findall(r'<loc>(.*?)<\\/loc>', xml, re.DOTALL)\n",
    "\n",
    "    urls = []\n",
    "\n",
    "    for element in elements:\n",
    "        if element.endswith('.xml'):\n",
    "            urls.extend(sitemap_parser(element))  # Recursively call sitemap_parser\n",
    "        else:\n",
    "            urls.append(element)\n",
    "\n",
    "    return urls\n",
    "\n",
    "def main():\n",
    "    url = \"https://lightdeliveryagency.com/\"\n",
    "    sitemaps = get_sitemaps(url)\n",
    "    \n",
    "    all_urls = []\n",
    "    \n",
    "    for sitemap in sitemaps:\n",
    "        all_urls.extend(sitemap_parser(sitemap))\n",
    "\n",
    "    urls_json = json.dumps(all_urls, indent=4)\n",
    "    \n",
    "    print(urls_json)\n",
    "\n",
    "if __name__ == \"__main__\":\n",
    "    main()\n"
   ]
  }
 ],
 "metadata": {
  "kernelspec": {
   "display_name": "Python 3 (ipykernel)",
   "language": "python",
   "name": "python3"
  },
  "language_info": {
   "codemirror_mode": {
    "name": "ipython",
    "version": 3
   },
   "file_extension": ".py",
   "mimetype": "text/x-python",
   "name": "python",
   "nbconvert_exporter": "python",
   "pygments_lexer": "ipython3",
   "version": "3.9.12"
  }
 },
 "nbformat": 4,
 "nbformat_minor": 5
}
