{
 "cells": [
  {
   "cell_type": "code",
   "execution_count": 5,
   "id": "ba05ac9e",
   "metadata": {},
   "outputs": [],
   "source": [
    "import requests\n",
    "import socket\n",
    "import ipinfo\n",
    "import ssl\n",
    "from cryptography import x509\n",
    "from cryptography.hazmat.backends import default_backend\n",
    "\n",
    "from urllib import parse, robotparser, request\n",
    "import re\n",
    "import json\n",
    "\n",
    "\n",
    "ipinfo_api_key = '3f709cf966c756'\n"
   ]
  },
  {
   "cell_type": "markdown",
   "id": "88e5be9a",
   "metadata": {},
   "source": [
    "#### Gets the IP adress of the given website"
   ]
  },
  {
   "cell_type": "code",
   "execution_count": 25,
   "id": "3cc1ca97",
   "metadata": {},
   "outputs": [],
   "source": [
    "def ip_address(website):\n",
    "    if \"://\" in website:\n",
    "        website = website.split(\"://\")[1]\n",
    "\n",
    "    parts = website.split(\"/\")\n",
    "    domain = parts[0]\n",
    "    try:\n",
    "        ip_address = socket.gethostbyname(domain)\n",
    "        return (domain, ip_address)\n",
    "    except socket.gaierror:\n",
    "        return (domain, \"Invalid domain or unable to resolve IP address\")\n"
   ]
  },
  {
   "cell_type": "code",
   "execution_count": 24,
   "id": "fa59d94c",
   "metadata": {},
   "outputs": [
    {
     "data": {
      "text/plain": [
       "('dsu.edu', '23.99.192.132')"
      ]
     },
     "execution_count": 24,
     "metadata": {},
     "output_type": "execute_result"
    }
   ],
   "source": [
    "ip_address(\"http://dsu.edu\")"
   ]
  },
  {
   "cell_type": "markdown",
   "id": "974753c6",
   "metadata": {},
   "source": [
    "#### Gets the IP information of the given IP address"
   ]
  },
  {
   "cell_type": "code",
   "execution_count": 11,
   "id": "3eb2bbb4",
   "metadata": {},
   "outputs": [],
   "source": [
    "\n",
    "def ip_info(ip_address):\n",
    "    handler = ipinfo.getHandler(ipinfo_api_key)\n",
    "\n",
    "    details = handler.getDetails(ip_address)\n",
    "    return json.dumps(details.all)"
   ]
  },
  {
   "cell_type": "code",
   "execution_count": 12,
   "id": "d4657336",
   "metadata": {},
   "outputs": [
    {
     "data": {
      "text/plain": [
       "'{\"ip\": \"23.99.192.132\", \"city\": \"Des Moines\", \"region\": \"Iowa\", \"country\": \"US\", \"loc\": \"41.6005,-93.6091\", \"org\": \"AS8075 Microsoft Corporation\", \"postal\": \"50307\", \"timezone\": \"America/Chicago\", \"country_name\": \"United States\", \"isEU\": false, \"country_flag\": {\"emoji\": \"\\\\ud83c\\\\uddfa\\\\ud83c\\\\uddf8\", \"unicode\": \"U+1F1FA U+1F1F8\"}, \"country_currency\": {\"code\": \"USD\", \"symbol\": \"$\"}, \"continent\": {\"code\": \"NA\", \"name\": \"North America\"}, \"latitude\": \"41.6005\", \"longitude\": \"-93.6091\"}'"
      ]
     },
     "execution_count": 12,
     "metadata": {},
     "output_type": "execute_result"
    }
   ],
   "source": [
    "ip_info('23.99.192.132')"
   ]
  },
  {
   "cell_type": "markdown",
   "id": "389efd4d",
   "metadata": {},
   "source": [
    "#### Gets the SSL certificate of the given IP adress"
   ]
  },
  {
   "cell_type": "code",
   "execution_count": 91,
   "id": "6ef55c8e",
   "metadata": {},
   "outputs": [],
   "source": [
    "def get_ssl(hostname, port=443):\n",
    "    context = ssl.create_default_context()\n",
    "    conn = context.wrap_socket(socket.socket(socket.AF_INET, socket.SOCK_STREAM), server_hostname=hostname)\n",
    "    conn.connect((hostname, port))\n",
    "\n",
    "    certs = conn.getpeercert(True)\n",
    "    certificate = x509.load_der_x509_certificate(certs, default_backend())\n",
    "    subject = next((attr.value for attr in certificate.subject if attr.oid == x509.NameOID.COMMON_NAME), None)\n",
    "    issuer = next((attr.value for attr in certificate.issuer if attr.oid == x509.NameOID.ORGANIZATION_NAME ), None)\n",
    "    certificate_info = {\n",
    "        \"subject\": subject,\n",
    "        \"issuer\": issuer,\n",
    "        \"serial_number\": certificate.serial_number,\n",
    "        \"not_valid_before\": certificate.not_valid_before.isoformat(),\n",
    "        \"not_valid_after\": certificate.not_valid_after.isoformat()\n",
    "    }\n",
    "\n",
    "    return json.dumps(certificate_info)\n",
    "def get_records(domain):\n",
    "    results = {}\n",
    "    record_types = ['NONE', 'A', 'NS', 'MD', 'MF', 'CNAME', 'SOA', 'MB', 'MG', 'MR', 'NULL', 'WKS', 'PTR', 'HINFO', 'MINFO', 'MX', 'TXT', 'RP', 'AFSDB', 'X25', 'ISDN', 'RT', 'NSAP', 'NSAP-PTR', 'SIG', 'KEY', 'PX', 'GPOS', 'AAAA', 'LOC', 'NXT', 'SRV', 'NAPTR', 'KX', 'CERT', 'A6', 'DNAME', 'OPT', 'APL', 'DS', 'SSHFP', 'IPSECKEY', 'RRSIG', 'NSEC', 'DNSKEY', 'DHCID', 'NSEC3', 'NSEC3PARAM', 'TLSA', 'HIP', 'CDS', 'CDNSKEY', 'CSYNC', 'SPF', 'UNSPEC', 'EUI48', 'EUI64', 'TKEY', 'TSIG', 'IXFR', 'AXFR', 'MAILB', 'MAILA', 'ANY', 'URI', 'CAA', 'TA', 'DLV']\n",
    "    \n",
    "    for record_type in record_types:\n",
    "        try:\n",
    "            answers = dns.resolver.resolve(domain, record_type)\n",
    "            results[record_type] = [rdata.to_text() for rdata in answers]\n",
    "        except dns.resolver.NoAnswer:\n",
    "            pass\n",
    "        except dns.resolver.NXDOMAIN:\n",
    "            pass\n",
    "        except Exception as e:\n",
    "            continue\n",
    "    \n",
    "    return json.dumps(results)\n",
    "def ip_info(ip_address):\n",
    "    handler = ipinfo.getHandler(ipinfo_api_key)\n",
    "\n",
    "    details = handler.getDetails(ip_address)\n",
    "\n",
    " \n",
    "    return json.dumps(details.all)\n",
    "def get_sitemaps(website):\n",
    "    robotstxturl = parse.urljoin(website, \"robots.txt\")\n",
    "    try:\n",
    "        rp = robotparser.RobotFileParser()\n",
    "        rp.set_url(robotstxturl)\n",
    "        rp.read()\n",
    "        sitemaps = rp.site_maps()\n",
    "    except robotparser.RobotFileParserError as e:\n",
    "        print(f\"error: {e}\")\n",
    "    except Exception as e:\n",
    "        print(f\"Error: {e}\")\n",
    "        \n",
    "    return sitemaps\n",
    "\n",
    "def sitemap_parser(sitemap):\n",
    "    r = request.urlopen(sitemap)\n",
    "    xml = r.read().decode('utf8')\n",
    "    elements = re.findall(r'<loc>(.*?)<\\/loc>', xml, re.DOTALL)\n",
    "\n",
    "    urls = []\n",
    "\n",
    "    for element in elements:\n",
    "        if element.endswith('.xml'):\n",
    "            urls.extend(sitemap_parser(element))  # Recursively call sitemap_parser\n",
    "        else:\n",
    "            urls.append(element)\n",
    "\n",
    "    return urls\n",
    "\n",
    "def site_maps(url):\n",
    "    sitemaps = get_sitemaps(url)\n",
    "    \n",
    "    all_urls = []\n",
    "    \n",
    "    for sitemap in sitemaps:\n",
    "        all_urls.extend(sitemap_parser(sitemap))\n",
    "\n",
    "    urls_json = json.dumps(all_urls)\n",
    "    \n",
    "    return(urls_json)"
   ]
  },
  {
   "cell_type": "markdown",
   "id": "155f534b",
   "metadata": {},
   "source": [
    "#### Reverse DNS"
   ]
  },
  {
   "cell_type": "code",
   "execution_count": 30,
   "id": "d395b9cb",
   "metadata": {},
   "outputs": [],
   "source": [
    "import dns.resolver\n",
    "\n",
    "\n",
    "\n"
   ]
  },
  {
   "cell_type": "markdown",
   "id": "45bf5ec5",
   "metadata": {},
   "source": [
    "#### Sitemap Parser"
   ]
  },
  {
   "cell_type": "code",
   "execution_count": 21,
   "id": "8d07729c",
   "metadata": {},
   "outputs": [],
   "source": [
    "\n",
    "\n",
    "\n"
   ]
  },
  {
   "cell_type": "markdown",
   "id": "8cb0a43b",
   "metadata": {},
   "source": [
    "#### WHOIS Domain"
   ]
  },
  {
   "cell_type": "code",
   "execution_count": 43,
   "id": "6444f2df",
   "metadata": {},
   "outputs": [],
   "source": [
    "import whois\n",
    "\n",
    "res = whois.whois('https://dsu.edu')\n"
   ]
  },
  {
   "cell_type": "code",
   "execution_count": 44,
   "id": "d26e5090",
   "metadata": {},
   "outputs": [
    {
     "data": {
      "text/plain": [
       "{'domain_name': 'DSU.EDU',\n",
       " 'registrar': None,\n",
       " 'whois_server': None,\n",
       " 'referral_url': None,\n",
       " 'updated_date': None,\n",
       " 'creation_date': None,\n",
       " 'expiration_date': None,\n",
       " 'name_servers': None,\n",
       " 'status': None,\n",
       " 'emails': 'abuse@dsu.edu',\n",
       " 'dnssec': None,\n",
       " 'name': None,\n",
       " 'org': None,\n",
       " 'address': None,\n",
       " 'city': None,\n",
       " 'state': None,\n",
       " 'registrant_postal_code': None,\n",
       " 'country': None}"
      ]
     },
     "execution_count": 44,
     "metadata": {},
     "output_type": "execute_result"
    }
   ],
   "source": [
    "(res)"
   ]
  },
  {
   "cell_type": "code",
   "execution_count": 45,
   "id": "03a059c8",
   "metadata": {},
   "outputs": [],
   "source": [
    "from ipwhois import IPWhois\n",
    "\n",
    "ip = '23.99.192.132'\n",
    "obj = IPWhois(ip)\n",
    "res = obj.lookup_rdap()"
   ]
  },
  {
   "cell_type": "code",
   "execution_count": 46,
   "id": "aab72924",
   "metadata": {},
   "outputs": [
    {
     "data": {
      "text/plain": [
       "{'nir': None,\n",
       " 'asn_registry': 'arin',\n",
       " 'asn': '8075',\n",
       " 'asn_cidr': '23.96.0.0/14',\n",
       " 'asn_country_code': 'US',\n",
       " 'asn_date': '2013-06-18',\n",
       " 'asn_description': 'MICROSOFT-CORP-MSN-AS-BLOCK, US',\n",
       " 'query': '23.99.192.132',\n",
       " 'network': {'handle': 'NET-23-96-0-0-1',\n",
       "  'status': ['active'],\n",
       "  'remarks': None,\n",
       "  'notices': [{'title': 'Terms of Service',\n",
       "    'description': 'By using the ARIN RDAP/Whois service, you are agreeing to the RDAP/Whois Terms of Use',\n",
       "    'links': ['https://www.arin.net/resources/registry/whois/tou/']},\n",
       "   {'title': 'Whois Inaccuracy Reporting',\n",
       "    'description': 'If you see inaccuracies in the results, please visit: ',\n",
       "    'links': ['https://www.arin.net/resources/registry/whois/inaccuracy_reporting/']},\n",
       "   {'title': 'Copyright Notice',\n",
       "    'description': 'Copyright 1997-2023, American Registry for Internet Numbers, Ltd.',\n",
       "    'links': None}],\n",
       "  'links': ['https://rdap.arin.net/registry/ip/23.96.0.0',\n",
       "   'https://whois.arin.net/rest/net/NET-23-96-0-0-1'],\n",
       "  'events': [{'action': 'last changed',\n",
       "    'timestamp': '2021-12-14T20:28:30-05:00',\n",
       "    'actor': None},\n",
       "   {'action': 'registration',\n",
       "    'timestamp': '2013-06-18T18:57:36-04:00',\n",
       "    'actor': None}],\n",
       "  'raw': None,\n",
       "  'start_address': '23.96.0.0',\n",
       "  'end_address': '23.103.255.255',\n",
       "  'cidr': '23.96.0.0/13',\n",
       "  'ip_version': 'v4',\n",
       "  'type': 'DIRECT ALLOCATION',\n",
       "  'name': 'MSFT',\n",
       "  'country': None,\n",
       "  'parent_handle': 'NET-23-0-0-0-0'},\n",
       " 'entities': ['MSFT'],\n",
       " 'objects': {'MSFT': {'handle': 'MSFT',\n",
       "   'status': None,\n",
       "   'remarks': [{'title': 'Registration Comments',\n",
       "     'description': 'To report suspected security issues specific to traffic emanating from Microsoft online services, including the distribution of malicious content or other illicit or illegal material through a Microsoft online service, please submit reports to:\\r\\n* https://cert.microsoft.com.  \\r\\n\\r\\nFor SPAM and other abuse issues, such as Microsoft Accounts, please contact:\\r\\n* abuse@microsoft.com.  \\r\\n\\r\\nTo report security vulnerabilities in Microsoft products and services, please contact:\\r\\n* secure@microsoft.com.  \\r\\n\\r\\nFor legal and law enforcement-related requests, please contact:\\r\\n* msndcc@microsoft.com\\r\\n\\r\\nFor routing, peering or DNS issues, please \\r\\ncontact:\\r\\n* IOC@microsoft.com',\n",
       "     'links': None}],\n",
       "   'notices': None,\n",
       "   'links': ['https://rdap.arin.net/registry/entity/MSFT',\n",
       "    'https://whois.arin.net/rest/org/MSFT'],\n",
       "   'events': [{'action': 'last changed',\n",
       "     'timestamp': '2023-06-13T16:51:49-04:00',\n",
       "     'actor': None},\n",
       "    {'action': 'registration',\n",
       "     'timestamp': '1998-07-10T00:00:00-04:00',\n",
       "     'actor': None}],\n",
       "   'raw': None,\n",
       "   'roles': ['registrant'],\n",
       "   'contact': {'name': 'Microsoft Corporation',\n",
       "    'kind': 'org',\n",
       "    'address': [{'type': None,\n",
       "      'value': 'One Microsoft Way\\nRedmond\\nWA\\n98052\\nUnited States'}],\n",
       "    'phone': None,\n",
       "    'email': None,\n",
       "    'role': None,\n",
       "    'title': None},\n",
       "   'events_actor': None,\n",
       "   'entities': ['SINGH683-ARIN',\n",
       "    'MRPD-ARIN',\n",
       "    'BEDAR6-ARIN',\n",
       "    'IPHOS5-ARIN',\n",
       "    'MAC74-ARIN',\n",
       "    'CHATU3-ARIN']}},\n",
       " 'raw': None}"
      ]
     },
     "execution_count": 46,
     "metadata": {},
     "output_type": "execute_result"
    }
   ],
   "source": [
    "res"
   ]
  },
  {
   "cell_type": "code",
   "execution_count": 59,
   "id": "3e41b401",
   "metadata": {},
   "outputs": [
    {
     "name": "stdout",
     "output_type": "stream",
     "text": [
      "In-order Traversal:  [9, 3, 1, 0, 4, 2, 7, 6, 8, 5]\n",
      "Post-order Traversal:  [9, 1, 3, 4, 0, 7, 6, 5, 8, 2]\n"
     ]
    }
   ],
   "source": [
    "class TreeNode:\n",
    "    def __init__(self, val):\n",
    "        self.val = val\n",
    "        self.left = None\n",
    "        self.right = None\n",
    "\n",
    "def in_order_traversal(root, result):\n",
    "    if root:\n",
    "        in_order_traversal(root.left, result)\n",
    "        result.append(root.val)\n",
    "        in_order_traversal(root.right, result)\n",
    "\n",
    "def post_order_traversal(root, result):\n",
    "    if root:\n",
    "        post_order_traversal(root.left, result)\n",
    "        post_order_traversal(root.right, result)\n",
    "        result.append(root.val)\n",
    "\n",
    "# Creating the tree\n",
    "root = TreeNode(2)\n",
    "root.left = TreeNode(0)\n",
    "root.left.left = TreeNode(3)\n",
    "root.left.left.left = TreeNode(9)\n",
    "root.left.left.right = TreeNode(1)\n",
    "root.left.right = TreeNode(4)\n",
    "root.right = TreeNode(8)\n",
    "root.right.left = TreeNode(6)\n",
    "root.right.left.left = TreeNode(7)\n",
    "root.right.right = TreeNode(5)\n",
    "\n",
    "# Perform in-order traversal\n",
    "in_order_result = []\n",
    "in_order_traversal(root, in_order_result)\n",
    "print(\"In-order Traversal: \", in_order_result)\n",
    "\n",
    "# Perform post-order traversal\n",
    "post_order_result = []\n",
    "post_order_traversal(root, post_order_result)\n",
    "print(\"Post-order Traversal: \", post_order_result)\n"
   ]
  },
  {
   "cell_type": "markdown",
   "id": "1f3f534b",
   "metadata": {},
   "source": [
    "in-order left mid right\n",
    "post     left right mid"
   ]
  }
 ],
 "metadata": {
  "kernelspec": {
   "display_name": "Python 3 (ipykernel)",
   "language": "python",
   "name": "python3"
  },
  "language_info": {
   "codemirror_mode": {
    "name": "ipython",
    "version": 3
   },
   "file_extension": ".py",
   "mimetype": "text/x-python",
   "name": "python",
   "nbconvert_exporter": "python",
   "pygments_lexer": "ipython3",
   "version": "3.9.12"
  }
 },
 "nbformat": 4,
 "nbformat_minor": 5
}
