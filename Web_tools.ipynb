{
 "cells": [
  {
   "cell_type": "code",
   "execution_count": 1,
   "id": "ba05ac9e",
   "metadata": {},
   "outputs": [],
   "source": [
    "import requests\n",
    "import socket\n",
    "import ipinfo\n",
    "import ssl\n",
    "from cryptography import x509\n",
    "from cryptography.hazmat.backends import default_backend\n",
    "\n",
    "from urllib import parse, robotparser, request\n",
    "import re\n",
    "import json\n",
    "\n",
    "\n",
    "ipinfo_api_key = '87ad97sa9dsa9asd'\n"
   ]
  },
  {
   "cell_type": "markdown",
   "id": "88e5be9a",
   "metadata": {},
   "source": [
    "#### Gets the IP adress of the given website"
   ]
  },
  {
   "cell_type": "code",
   "execution_count": 17,
   "id": "3cc1ca97",
   "metadata": {},
   "outputs": [],
   "source": [
    "def ip_address(website):\n",
    "    if \"://\" in website:\n",
    "        website = website.split(\"://\")[1]\n",
    "\n",
    "    parts = website.split(\"/\")\n",
    "    domain = parts[0]\n",
    "    try:\n",
    "        ip_address = socket.gethostbyname(domain)\n",
    "        return (domain, ip_address)\n",
    "    except socket.gaierror:\n",
    "        return (domain, \"Invalid domain or unable to resolve IP address\")\n"
   ]
  },
  {
   "cell_type": "code",
   "execution_count": 18,
   "id": "c4b45e0f",
   "metadata": {},
   "outputs": [
    {
     "data": {
      "text/plain": [
       "('example.com', '93.184.216.34')"
      ]
     },
     "execution_count": 18,
     "metadata": {},
     "output_type": "execute_result"
    }
   ],
   "source": [
    "ip_address(\"example.com\")"
   ]
  },
  {
   "cell_type": "markdown",
   "id": "974753c6",
   "metadata": {},
   "source": [
    "#### Gets the IP information of the given IP address"
   ]
  },
  {
   "cell_type": "code",
   "execution_count": 11,
   "id": "3eb2bbb4",
   "metadata": {},
   "outputs": [],
   "source": [
    "\n",
    "def ip_info(ip_address):\n",
    "    handler = ipinfo.getHandler(ipinfo_api_key)\n",
    "\n",
    "    details = handler.getDetails(ip_address)\n",
    "    return json.dumps(details.all)"
   ]
  },
  {
   "cell_type": "markdown",
   "id": "389efd4d",
   "metadata": {},
   "source": [
    "#### Gets the SSL certificate of the given IP adress"
   ]
  },
  {
   "cell_type": "code",
   "execution_count": 91,
   "id": "6ef55c8e",
   "metadata": {},
   "outputs": [],
   "source": [
    "def get_ssl(hostname, port=443):\n",
    "    context = ssl.create_default_context()\n",
    "    conn = context.wrap_socket(socket.socket(socket.AF_INET, socket.SOCK_STREAM), server_hostname=hostname)\n",
    "    conn.connect((hostname, port))\n",
    "\n",
    "    certs = conn.getpeercert(True)\n",
    "    certificate = x509.load_der_x509_certificate(certs, default_backend())\n",
    "    subject = next((attr.value for attr in certificate.subject if attr.oid == x509.NameOID.COMMON_NAME), None)\n",
    "    issuer = next((attr.value for attr in certificate.issuer if attr.oid == x509.NameOID.ORGANIZATION_NAME ), None)\n",
    "    certificate_info = {\n",
    "        \"subject\": subject,\n",
    "        \"issuer\": issuer,\n",
    "        \"serial_number\": certificate.serial_number,\n",
    "        \"not_valid_before\": certificate.not_valid_before.isoformat(),\n",
    "        \"not_valid_after\": certificate.not_valid_after.isoformat()\n",
    "    }\n",
    "    print(type(certificate_info))\n",
    "    return json.dumps(certificate_info)\n"
   ]
  },
  {
   "cell_type": "markdown",
   "id": "155f534b",
   "metadata": {},
   "source": [
    "#### Reverse DNS"
   ]
  },
  {
   "cell_type": "code",
   "execution_count": null,
   "id": "31737fc2",
   "metadata": {},
   "outputs": [],
   "source": [
    "def get_records(domain):\n",
    "    results = {}\n",
    "    record_types = ['NONE', 'A', 'NS', 'MD', 'MF', 'CNAME', 'SOA', 'MB', 'MG', 'MR', 'NULL', 'WKS', 'PTR', 'HINFO', 'MINFO', 'MX', 'TXT', 'RP', 'AFSDB', 'X25', 'ISDN', 'RT', 'NSAP', 'NSAP-PTR', 'SIG', 'KEY', 'PX', 'GPOS', 'AAAA', 'LOC', 'NXT', 'SRV', 'NAPTR', 'KX', 'CERT', 'A6', 'DNAME', 'OPT', 'APL', 'DS', 'SSHFP', 'IPSECKEY', 'RRSIG', 'NSEC', 'DNSKEY', 'DHCID', 'NSEC3', 'NSEC3PARAM', 'TLSA', 'HIP', 'CDS', 'CDNSKEY', 'CSYNC', 'SPF', 'UNSPEC', 'EUI48', 'EUI64', 'TKEY', 'TSIG', 'IXFR', 'AXFR', 'MAILB', 'MAILA', 'ANY', 'URI', 'CAA', 'TA', 'DLV']\n",
    "    \n",
    "    for record_type in record_types:\n",
    "        try:\n",
    "            answers = dns.resolver.resolve(domain, record_type)\n",
    "            results[record_type] = [rdata.to_text() for rdata in answers]\n",
    "        except dns.resolver.NoAnswer:\n",
    "            pass\n",
    "        except dns.resolver.NXDOMAIN:\n",
    "            pass\n",
    "        except Exception as e:\n",
    "            continue\n",
    "    \n",
    "    return json.dumps(results)"
   ]
  },
  {
   "cell_type": "markdown",
   "id": "45bf5ec5",
   "metadata": {},
   "source": [
    "#### Sitemap Parser"
   ]
  },
  {
   "cell_type": "code",
   "execution_count": null,
   "id": "0f2fa770",
   "metadata": {},
   "outputs": [],
   "source": [
    "def get_sitemaps(website):\n",
    "    robotstxturl = parse.urljoin(website, \"robots.txt\")\n",
    "    try:\n",
    "        rp = robotparser.RobotFileParser()\n",
    "        rp.set_url(robotstxturl)\n",
    "        rp.read()\n",
    "        sitemaps = rp.site_maps()\n",
    "    except robotparser.RobotFileParserError as e:\n",
    "        print(f\"error: {e}\")\n",
    "    except Exception as e:\n",
    "        print(f\"Error: {e}\")\n",
    "        \n",
    "    return sitemaps\n",
    "\n",
    "def sitemap_parser(sitemap):\n",
    "    r = request.urlopen(sitemap)\n",
    "    xml = r.read().decode('utf8')\n",
    "    elements = re.findall(r'<loc>(.*?)<\\/loc>', xml, re.DOTALL)\n",
    "\n",
    "    urls = []\n",
    "\n",
    "    for element in elements:\n",
    "        if element.endswith('.xml'):\n",
    "            urls.extend(sitemap_parser(element))  # Recursively call sitemap_parser\n",
    "        else:\n",
    "            urls.append(element)\n",
    "\n",
    "    return urls\n",
    "\n",
    "def site_maps(url):\n",
    "    sitemaps = get_sitemaps(url)\n",
    "    \n",
    "    all_urls = []\n",
    "    \n",
    "    for sitemap in sitemaps:\n",
    "        all_urls.extend(sitemap_parser(sitemap))\n",
    "\n",
    "    urls_json = json.dumps(all_urls)\n",
    "    \n",
    "    return(urls_json)"
   ]
  },
  {
   "cell_type": "code",
   "execution_count": null,
   "id": "062ce162",
   "metadata": {},
   "outputs": [],
   "source": [
    "def get_host(domain):\n",
    "    "
   ]
  },
  {
   "cell_type": "code",
   "execution_count": 40,
   "id": "ae2d53da",
   "metadata": {},
   "outputs": [
    {
     "name": "stdout",
     "output_type": "stream",
     "text": [
      "{'b.iana-servers.net.', 'a.iana-servers.net.'}\n"
     ]
    }
   ],
   "source": [
    "import socket\n",
    "import dns.resolver\n",
    "\n",
    "def gather_domains_and_subdomains(primary_domain):\n",
    "    domains = set()\n",
    "    subdomains = set()\n",
    "\n",
    "    try:\n",
    "        ip_address = socket.gethostbyname(primary_domain)\n",
    "\n",
    "        answers = dns.resolver.resolve(primary_domain, 'A')\n",
    "\n",
    "\n",
    "        answers = dns.resolver.resolve(primary_domain, 'NS')\n",
    "        for rdata in answers:\n",
    "            domains.add(rdata.to_text())\n",
    "        print(domains)\n",
    "\n",
    "    except (socket.gaierror, dns.resolver.NXDOMAIN, dns.resolver.NoAnswer) as e:\n",
    "        print(f\"Error: {e}\")\n",
    "\n",
    "\n",
    "primary_domain = 'example.com'  # Replace with the domain you want to check\n",
    "gather_domains_and_subdomains(primary_domain)\n"
   ]
  },
  {
   "cell_type": "markdown",
   "id": "8df327fb",
   "metadata": {},
   "source": [
    "#### Headers"
   ]
  },
  {
   "cell_type": "code",
   "execution_count": 10,
   "id": "3bf81215",
   "metadata": {},
   "outputs": [
    {
     "data": {
      "text/plain": [
       "'{\"Content-Length\": \"28226\", \"Content-Type\": \"text/html\", \"Date\": \"Fri, 27 Oct 2023 21:58:56 GMT\", \"Server\": \"Microsoft-IIS/10.0\", \"Accept-Ranges\": \"bytes\", \"Content-Encoding\": \"gzip\", \"ETag\": \"\\\\\"0d545d0f88da1:0\\\\\"\", \"Last-Modified\": \"Fri, 27 Oct 2023 17:12:50 GMT\", \"Set-Cookie\": \"ARRAffinity=7f02473c44e480611007b41ddc4a571fda96d68a199b0df5e41dfe5a3816077b;Path=/;HttpOnly;Secure;Domain=dsu.edu, ARRAffinitySameSite=7f02473c44e480611007b41ddc4a571fda96d68a199b0df5e41dfe5a3816077b;Path=/;HttpOnly;SameSite=None;Secure;Domain=dsu.edu\", \"Vary\": \"Accept-Encoding\", \"Strict-Transport-Security\": \"max-age=31536000\", \"X-Powered-By\": \"ASP.NET\", \"X-Frame-Options\": \"SAMEORIGIN\", \"X-Content-Type-Options\": \"nosniff\"}'"
      ]
     },
     "execution_count": 10,
     "metadata": {},
     "output_type": "execute_result"
    }
   ],
   "source": [
    "import requests\n",
    "\n",
    "def get_headers(domain):\n",
    "    response = requests.get(domain)\n",
    "    headers = response.headers\n",
    "    headers_dict = {header: value for header,value in headers.items()}\n",
    "    return json.dumps(headers_dict)\n",
    "get_headers('http://dsu.edu')"
   ]
  },
  {
   "cell_type": "markdown",
   "id": "c25044cb",
   "metadata": {},
   "source": [
    "#### Cookies"
   ]
  },
  {
   "cell_type": "code",
   "execution_count": 6,
   "id": "6b446e13",
   "metadata": {},
   "outputs": [
    {
     "data": {
      "text/plain": [
       "'{\"ARRAffinity\": \"7f02473c44e480611007b41ddc4a571fda96d68a199b0df5e41dfe5a3816077b\", \"ARRAffinitySameSite\": \"7f02473c44e480611007b41ddc4a571fda96d68a199b0df5e41dfe5a3816077b\"}'"
      ]
     },
     "execution_count": 6,
     "metadata": {},
     "output_type": "execute_result"
    }
   ],
   "source": [
    "\n",
    "def get_cookies(domain):\n",
    "    response = requests.get(domain)\n",
    "    cookies = response.cookies\n",
    "    cookies_dict = {cookie.name: cookie.value for cookie in cookies}\n",
    "    return json.dumps(cookies_dict)\n",
    "get_cookies('http://dsu.edu')\n"
   ]
  },
  {
   "cell_type": "code",
   "execution_count": 47,
   "id": "e450b9b1",
   "metadata": {},
   "outputs": [
    {
     "name": "stdout",
     "output_type": "stream",
     "text": [
      "<Response [200]>\n",
      "No redirects found.\n"
     ]
    }
   ],
   "source": [
    "import requests\n",
    "\n",
    "def get_redirects(url):\n",
    "    try:\n",
    "        response = requests.get(url, allow_redirects=True)\n",
    "        redirects = response.history\n",
    "        final_url = response.url\n",
    "        return redirects, final_url\n",
    "    except requests.RequestException as e:\n",
    "        print(f\"An error occurred: {e}\")\n",
    "        return [], None\n",
    "\n",
    "if __name__ == '__main__':\n",
    "    target_url = 'http://example.com'  # Replace with the URL you want to check\n",
    "    redirects, final_url = get_redirects(target_url)\n",
    "\n",
    "    if redirects:\n",
    "        print(\"Redirects:\")\n",
    "        for index, response in enumerate(redirects, start=1):\n",
    "            print(f\"{index}. {response.url}\")\n",
    "        print(\"\\nFinal URL:\")\n",
    "        print(final_url)\n",
    "    else:\n",
    "        print(\"No redirects found.\")\n"
   ]
  },
  {
   "cell_type": "code",
   "execution_count": 49,
   "id": "a2a8f388",
   "metadata": {},
   "outputs": [
    {
     "ename": "SyntaxError",
     "evalue": "invalid syntax (1835790732.py, line 1)",
     "output_type": "error",
     "traceback": [
      "\u001b[1;36m  Cell \u001b[1;32mIn[49], line 1\u001b[1;36m\u001b[0m\n\u001b[1;33m    for i in respose\u001b[0m\n\u001b[1;37m                    ^\u001b[0m\n\u001b[1;31mSyntaxError\u001b[0m\u001b[1;31m:\u001b[0m invalid syntax\n"
     ]
    }
   ],
   "source": [
    "response = requests.get(url, allow_redirects=True)\n",
    "\n",
    "for i in respose"
   ]
  },
  {
   "cell_type": "code",
   "execution_count": null,
   "id": "0c34ccc2",
   "metadata": {},
   "outputs": [],
   "source": []
  }
 ],
 "metadata": {
  "kernelspec": {
   "display_name": "Python 3 (ipykernel)",
   "language": "python",
   "name": "python3"
  },
  "language_info": {
   "codemirror_mode": {
    "name": "ipython",
    "version": 3
   },
   "file_extension": ".py",
   "mimetype": "text/x-python",
   "name": "python",
   "nbconvert_exporter": "python",
   "pygments_lexer": "ipython3",
   "version": "3.9.12"
  }
 },
 "nbformat": 4,
 "nbformat_minor": 5
}
