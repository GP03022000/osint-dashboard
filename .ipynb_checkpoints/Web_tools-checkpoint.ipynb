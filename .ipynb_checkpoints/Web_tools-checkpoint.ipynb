{
 "cells": [
  {
   "cell_type": "code",
   "execution_count": 20,
   "id": "ba05ac9e",
   "metadata": {},
   "outputs": [],
   "source": [
    "import requests\n",
    "import socket\n",
    "import ipinfo\n",
    "import ssl\n",
    "from cryptography import x509\n",
    "from cryptography.hazmat.backends import default_backend\n",
    "\n",
    "ipinfo_api_key = '3f709cf966c756'\n"
   ]
  },
  {
   "cell_type": "markdown",
   "id": "88e5be9a",
   "metadata": {},
   "source": [
    "#### Gets the IP adress of the given website"
   ]
  },
  {
   "cell_type": "code",
   "execution_count": 25,
   "id": "3cc1ca97",
   "metadata": {},
   "outputs": [],
   "source": [
    "def ip_address(website):\n",
    "    if \"://\" in website:\n",
    "        website = website.split(\"://\")[1]\n",
    "\n",
    "    parts = website.split(\"/\")\n",
    "    domain = parts[0]\n",
    "    try:\n",
    "        ip_address = socket.gethostbyname(domain)\n",
    "        return (domain, ip_address)\n",
    "    except socket.gaierror:\n",
    "        return (domain, \"Invalid domain or unable to resolve IP address\")\n"
   ]
  },
  {
   "cell_type": "code",
   "execution_count": 24,
   "id": "fa59d94c",
   "metadata": {},
   "outputs": [
    {
     "data": {
      "text/plain": [
       "('dsu.edu', '23.99.192.132')"
      ]
     },
     "execution_count": 24,
     "metadata": {},
     "output_type": "execute_result"
    }
   ],
   "source": [
    "ip_address(\"http://dsu.edu\")"
   ]
  },
  {
   "cell_type": "markdown",
   "id": "974753c6",
   "metadata": {},
   "source": [
    "#### Gets the IP information of the given IP address"
   ]
  },
  {
   "cell_type": "code",
   "execution_count": 45,
   "id": "3eb2bbb4",
   "metadata": {},
   "outputs": [],
   "source": [
    "def ip_info(ip_address):\n",
    "    handler = ipinfo.getHandler(ipinfo_api_key)\n",
    "\n",
    "    details = handler.getDetails(ip_address)\n",
    "\n",
    " \n",
    "    print(details.all)\n"
   ]
  },
  {
   "cell_type": "code",
   "execution_count": 46,
   "id": "7cd1c500",
   "metadata": {},
   "outputs": [
    {
     "name": "stdout",
     "output_type": "stream",
     "text": [
      "{'ip': '23.99.192.132', 'city': 'Des Moines', 'region': 'Iowa', 'country': 'US', 'loc': '41.6005,-93.6091', 'org': 'AS8075 Microsoft Corporation', 'postal': '50307', 'timezone': 'America/Chicago', 'country_name': 'United States', 'isEU': False, 'country_flag_url': 'https://cdn.ipinfo.io/static/images/countries-flags/US.svg', 'country_flag': {'emoji': '🇺🇸', 'unicode': 'U+1F1FA U+1F1F8'}, 'country_currency': {'code': 'USD', 'symbol': '$'}, 'continent': {'code': 'NA', 'name': 'North America'}, 'latitude': '41.6005', 'longitude': '-93.6091'}\n"
     ]
    }
   ],
   "source": [
    "ip_info(\"23.99.192.132\")"
   ]
  },
  {
   "cell_type": "markdown",
   "id": "389efd4d",
   "metadata": {},
   "source": [
    "#### Gets the SSL certificate of the given IP adress"
   ]
  },
  {
   "cell_type": "code",
   "execution_count": 81,
   "id": "1b2b4f09",
   "metadata": {},
   "outputs": [],
   "source": [
    "def get_ssl(hostname, port=443):\n",
    "    context = ssl.create_default_context()\n",
    "    conn = context.wrap_socket(socket.socket(socket.AF_INET, socket.SOCK_STREAM), server_hostname=hostname)\n",
    "    conn.connect((hostname, port))\n",
    "\n",
    "    certs = conn.getpeercert(True)\n",
    "    certificate = x509.load_der_x509_certificate(certs, default_backend())\n",
    "    subject = next((attr.value for attr in certificate.subject if attr.oid == x509.NameOID.COMMON_NAME), None)\n",
    "    issuer = next((attr.value for attr in certificate.issuer if attr.oid == x509.NameOID.COMMON_NAME), None)\n",
    "    certificate_info = {\n",
    "        \"subject\": subject,\n",
    "        \"issuer\": issuer,\n",
    "        \"serial_number\": certificate.serial_number,\n",
    "        \"not_valid_before\": certificate.not_valid_before.isoformat(),\n",
    "        \"not_valid_after\": certificate.not_valid_after.isoformat()\n",
    "    }\n",
    "\n",
    "    return json.dumps(certificate_info)"
   ]
  },
  {
   "cell_type": "code",
   "execution_count": 83,
   "id": "4ede6756",
   "metadata": {},
   "outputs": [],
   "source": [
    "def get_ssl(hostname, port=443):\n",
    "    \n",
    "    context = ssl.create_default_context()\n",
    "    conn = context.wrap_socket(socket.socket(socket.AF_INET, socket.SOCK_STREAM), server_hostname=hostname)\n",
    "    conn.connect((hostname, port))\n",
    "\n",
    "    certs = conn.getpeercert(True)\n",
    "    return(x509.load_der_x509_certificate(certs, default_backend()))\n",
    "\n"
   ]
  },
  {
   "cell_type": "code",
   "execution_count": 85,
   "id": "0964cb16",
   "metadata": {},
   "outputs": [
    {
     "data": {
      "text/plain": [
       "<Name(C=GB,ST=Greater Manchester,L=Salford,O=Sectigo Limited,CN=Sectigo RSA Domain Validation Secure Server CA)>"
      ]
     },
     "execution_count": 85,
     "metadata": {},
     "output_type": "execute_result"
    }
   ],
   "source": [
    "get_ssl(\"dsu.edu\").issuer"
   ]
  },
  {
   "cell_type": "markdown",
   "id": "155f534b",
   "metadata": {},
   "source": [
    "#### Reverse DNS"
   ]
  },
  {
   "cell_type": "code",
   "execution_count": 53,
   "id": "07073ba3",
   "metadata": {},
   "outputs": [
    {
     "name": "stdout",
     "output_type": "stream",
     "text": [
      "Hostname: No reverse DNS record found\n"
     ]
    }
   ],
   "source": [
    "def reverse_dns_lookup(ip_address):\n",
    "    try:\n",
    "        hostname, _, _ = socket.gethostbyaddr(ip_address)\n",
    "        return hostname\n",
    "    except socket.herror:\n",
    "        return \"No reverse DNS record found\"\n",
    "\n",
    "hostname = reverse_dns_lookup(ip_address)\n",
    "print(f\"Hostname: {hostname}\")\n"
   ]
  },
  {
   "cell_type": "code",
   "execution_count": null,
   "id": "b76264a8",
   "metadata": {},
   "outputs": [],
   "source": [
    "reverse_dns_lookup(\"23.99.192.132\")"
   ]
  },
  {
   "cell_type": "markdown",
   "id": "d7e5e5ef",
   "metadata": {},
   "source": [
    "##### Get Records"
   ]
  },
  {
   "cell_type": "code",
   "execution_count": 30,
   "id": "d395b9cb",
   "metadata": {},
   "outputs": [],
   "source": [
    "import dns.resolver\n",
    "\n",
    "def get_records(domain):\n",
    "    results = {}\n",
    "    record_types = ['NONE', 'A', 'NS', 'MD', 'MF', 'CNAME', 'SOA', 'MB', 'MG', 'MR', 'NULL', 'WKS', 'PTR', 'HINFO', 'MINFO', 'MX', 'TXT', 'RP', 'AFSDB', 'X25', 'ISDN', 'RT', 'NSAP', 'NSAP-PTR', 'SIG', 'KEY', 'PX', 'GPOS', 'AAAA', 'LOC', 'NXT', 'SRV', 'NAPTR', 'KX', 'CERT', 'A6', 'DNAME', 'OPT', 'APL', 'DS', 'SSHFP', 'IPSECKEY', 'RRSIG', 'NSEC', 'DNSKEY', 'DHCID', 'NSEC3', 'NSEC3PARAM', 'TLSA', 'HIP', 'CDS', 'CDNSKEY', 'CSYNC', 'SPF', 'UNSPEC', 'EUI48', 'EUI64', 'TKEY', 'TSIG', 'IXFR', 'AXFR', 'MAILB', 'MAILA', 'ANY', 'URI', 'CAA', 'TA', 'DLV']\n",
    "    \n",
    "    for record_type in record_types:\n",
    "        try:\n",
    "            answers = dns.resolver.resolve(domain, record_type)\n",
    "            results[record_type] = [rdata.to_text() for rdata in answers]\n",
    "        except dns.resolver.NoAnswer:\n",
    "            pass\n",
    "        except dns.resolver.NXDOMAIN:\n",
    "            pass\n",
    "        except Exception as e:\n",
    "            continue\n",
    "    \n",
    "    return json.dumps(results)\n"
   ]
  },
  {
   "cell_type": "code",
   "execution_count": 31,
   "id": "7cc9d4b6",
   "metadata": {},
   "outputs": [
    {
     "data": {
      "text/plain": [
       "'{\"A\": [\"23.99.192.132\"], \"NS\": [\"ns02.dsu.edu.\", \"ns03.dsu.edu.\", \"ns01.dsu.edu.\"], \"SOA\": [\"ns01.dsu.edu. abuse.dsu.edu. 1296 900 600 604800 3600\"], \"MX\": [\"10 dsu-edu.mail.protection.outlook.com.\"], \"TXT\": [\"\\\\\"LHa9EGmBomDQmn2srzFvA/9eRIJN4JrNgNbBA9dxlaIaVZpsk2v5M+tcqMwhaPWYy26amciv0IXQOJiXd7yHgw==\\\\\"\", \"\\\\\"facebook-domain-verification=5rg5xeb98oeyoxblimkh80hdv2led9\\\\\"\", \"\\\\\"prod-dsuedu.azurewebsites.net\\\\\"\", \"\\\\\"v=spf1 include:spf.protection.outlook.com include:smtp.sd.gov include:radiussend.com include:_spf.psm.knowbe4.com +ip4:38.106.32.22 +ip4:38.106.32.46 +ip4:138.247.64.140 ~all\\\\\"\", \"\\\\\"apple-domain-verification=TONJY4yk4BUTLdvp\\\\\\\\010\\\\\\\\010\\\\\"\", \"\\\\\"0ed1fe018a218dc59b07824234bbdebb68e121a974\\\\\" \\\\\"\\\\\"\", \"\\\\\"P6QOHSATUNOTGEUQ3TESVHSHUJ9X4UZUSXNUHCE5W\\\\\"\", \"\\\\\"have-i-been-pwned-verification=a055cb670a4d35d56103522ebebf11a6\\\\\"\", \"\\\\\"ZOOM_verify_fie6sDlRSQ2VOOF2Ao3lcA\\\\\"\", \"\\\\\"_globalsign-domain-verification=LfgPuNnZOviHJVkLDsAnTjpDsFtY_T0pkBgmNG2dZs\\\\\"\", \"\\\\\"adobe-idp-site-verification=103e6955f98247b723edf4fe8b162d266018e04dd7bc9e829e68e5b145a1df7d\\\\\"\"]}'"
      ]
     },
     "execution_count": 31,
     "metadata": {},
     "output_type": "execute_result"
    }
   ],
   "source": [
    "get_records(\"dsu.edu\")"
   ]
  },
  {
   "cell_type": "markdown",
   "id": "45bf5ec5",
   "metadata": {},
   "source": [
    "#### Sitemap Parser"
   ]
  },
  {
   "cell_type": "code",
   "execution_count": 21,
   "id": "8d07729c",
   "metadata": {},
   "outputs": [],
   "source": [
    "from urllib import parse, robotparser, request\n",
    "import re\n",
    "import json\n",
    "\n",
    "def get_sitemaps(website):\n",
    "    robotstxturl = parse.urljoin(website, \"robots.txt\")\n",
    "    try:\n",
    "        rp = robotparser.RobotFileParser()\n",
    "        rp.set_url(robotstxturl)\n",
    "        rp.read()\n",
    "        sitemaps = rp.site_maps()\n",
    "    except robotparser.RobotFileParserError as e:\n",
    "        print(f\"error: {e}\")\n",
    "    except Exception as e:\n",
    "        print(f\"Error: {e}\")\n",
    "        \n",
    "    return sitemaps\n",
    "\n",
    "def sitemap_parser(sitemap):\n",
    "    r = request.urlopen(sitemap)\n",
    "    xml = r.read().decode('utf8')\n",
    "    elements = re.findall(r'<loc>(.*?)<\\/loc>', xml, re.DOTALL)\n",
    "\n",
    "    urls = []\n",
    "\n",
    "    for element in elements:\n",
    "        if element.endswith('.xml'):\n",
    "            urls.extend(sitemap_parser(element))  # Recursively call sitemap_parser\n",
    "        else:\n",
    "            urls.append(element)\n",
    "\n",
    "    return urls\n",
    "\n",
    "def site_maps(url):\n",
    "    sitemaps = get_sitemaps(url)\n",
    "    \n",
    "    all_urls = []\n",
    "    \n",
    "    for sitemap in sitemaps:\n",
    "        all_urls.extend(sitemap_parser(sitemap))\n",
    "\n",
    "    urls_json = json.dumps(all_urls, indent=4)\n",
    "    \n",
    "    return(urls_json)\n",
    "\n"
   ]
  },
  {
   "cell_type": "markdown",
   "id": "8cb0a43b",
   "metadata": {},
   "source": [
    "#### WHOIS Domain"
   ]
  },
  {
   "cell_type": "code",
   "execution_count": 45,
   "id": "67458426",
   "metadata": {},
   "outputs": [],
   "source": [
    "from ipwhois import IPWhois\n",
    "\n",
    "ip = '23.99.192.132'\n",
    "obj = IPWhois(ip)\n",
    "res = obj.lookup_rdap()"
   ]
  }
 ],
 "metadata": {
  "kernelspec": {
   "display_name": "Python 3 (ipykernel)",
   "language": "python",
   "name": "python3"
  },
  "language_info": {
   "codemirror_mode": {
    "name": "ipython",
    "version": 3
   },
   "file_extension": ".py",
   "mimetype": "text/x-python",
   "name": "python",
   "nbconvert_exporter": "python",
   "pygments_lexer": "ipython3",
   "version": "3.9.12"
  }
 },
 "nbformat": 4,
 "nbformat_minor": 5
}
